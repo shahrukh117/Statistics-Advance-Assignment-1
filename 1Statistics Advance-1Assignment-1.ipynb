{
 "cells": [
  {
   "cell_type": "markdown",
   "id": "149a17be-d55b-487a-afee-e3ebfbea3efa",
   "metadata": {},
   "source": [
    "## Q1. What is the Probability density function?"
   ]
  },
  {
   "cell_type": "markdown",
   "id": "f482330a-408e-472e-9bc8-2e762d543ff1",
   "metadata": {},
   "source": [
    "The Probability Density Function(PDF) defines the probability function representing the density of a continuous random variable lying between a specific range of values. In other words, the probability density function produces the likelihood of values of the continuous random variable."
   ]
  },
  {
   "cell_type": "markdown",
   "id": "d97177c9-0f8c-429e-8fed-7409ce78404b",
   "metadata": {},
   "source": [
    "### Q2. What are the types of Probability distribution?"
   ]
  },
  {
   "cell_type": "markdown",
   "id": "3ca5c00c-4949-4e6c-b9ec-d022385e3fd4",
   "metadata": {},
   "source": [
    "### Types of Probability Distributions\n",
    "Statisticians divide probability distributions into the following types:\n",
    "\n",
    "- Discrete Probability Distributions \n",
    "- Continuous Probability Distributions\n",
    "\n",
    "### Discrete Probability Distributions\n",
    "Discrete probability functions are the probability of mass functions. It assumes a discrete number of values. \n",
    "\n",
    "For example, when you toss a coin, then counts of events are discrete functions because there are no in-between values. You have only heads or tails in a coin toss. Similarly, when counting the number of books borrowed per hour at a library, you can count 31 or 32 books and nothing in between.\n",
    "\n",
    "### Types of Discrete Probability Distributions\n",
    "- Binomial distributions - A Bernoulli distribution has only two outcomes, 1 and 0. Therefore, the random variable X takes the value 1 with the probability of success as p, and the value 0 with the probability of failure as q or 1-p.\n",
    "Thus, if you toss a coin, the occurrence of head denotes success, and a tail denotes failure.\n",
    "\n",
    "The probability function is px(1-p)1-x where x € (0, 1)\n",
    "\n",
    "- Normal distributions – Normal distributions are for the most basic situations. It has the following characteristics:\n",
    "1. Mean, median, and mode coincides.\n",
    "2. The distribution curve is bell-shaped.\n",
    "3. The distribution curve is symmetrical along x = μ.\n",
    "4. The area under the curve is 1.\n",
    "\n",
    "- Poisson distributions – Counting number of books at a library falls under probability distribution.\n",
    "Poisson distributions have the following assumptions:\n",
    "\n",
    "- A successful event is not influencing the outcome of another successful event.\n",
    "- The probability of success over a short duration equals the probability of success over a longer duration.\n",
    "- The probability of success in a duration nears zero as the duration becomes smaller.\n",
    "\n",
    "### Continuous Probability Distributions\n",
    "It is also known as probability density functions. There is a continuous distribution if the variable assumes to have an infinite number of values between any two values. Continuous variables are measured on scales, like height, weight and temperature.\n",
    "\n",
    "When compared to discrete probability distributions where every value is a non-zero outcome, continuous distributions have a zero probability for specific functions. For example, the probability is zero when measuring a temperature that is exactly 40 degrees.\n",
    "\n",
    "### Types of Continuous Probability Distributions\n",
    "- Uniform distributions – When rolling a dice, the outcomes are 1 to 6. The probabilities of these outcomes are equal, and that is a uniform distribution. \n",
    "Suppose the random variable X assumes k different values. Also, P(X=xk) is constant.\n",
    "\n",
    "The P(X=xk) = 1/k\n",
    "\n",
    "- Cumulative probability distributions – When the probability that the value of a random variable X is within a specified range, cumulative probability comes into the picture.\n",
    "Suppose you toss a coin, then what is the probability of the outcome to be one or fewer heads. This is a cumulative probability."
   ]
  },
  {
   "cell_type": "markdown",
   "id": "0e1a5de9-0b30-4d40-b825-2f022c843eed",
   "metadata": {},
   "source": [
    "### Q3. Write a Python function to calculate the probability density function of a normal distribution with given mean and standard deviation at a given point."
   ]
  },
  {
   "cell_type": "code",
   "execution_count": 1,
   "id": "ffd631f8-f7f4-4e8f-b48c-7af9c4fcef6e",
   "metadata": {},
   "outputs": [
    {
     "name": "stdout",
     "output_type": "stream",
     "text": [
      "The PDF of the normal distribution with mean 5 and standard deviation 2 at point 3 is: 0.1210\n"
     ]
    }
   ],
   "source": [
    "import numpy as np\n",
    "\n",
    "def normal_pdf(x, mu, sigma):\n",
    "    \"\"\"\n",
    " Calculates the probability density function of a normal distribution with given mean and standard deviation at a given point.\n",
    "\n",
    " Args:\n",
    "   x: The point at which to evaluate the PDF.\n",
    "   mu: The mean of the normal distribution.\n",
    "   sigma: The standard deviation of the normal distribution.\n",
    "\n",
    " Returns:\n",
    "   The value of the PDF at the given point.\n",
    " \"\"\"\n",
    "    return (1 / (np.sqrt(2 * np.pi) * sigma)) * np.exp(-0.5 * ((x - mu) / sigma)**2)\n",
    "\n",
    "# Example usage\n",
    "mean = 5\n",
    "sigma = 2\n",
    "x = 3\n",
    "\n",
    "pdf_value = normal_pdf(x, mean, sigma)\n",
    "\n",
    "print(f\"The PDF of the normal distribution with mean {mean} and standard deviation {sigma} at point {x} is: {pdf_value:.4f}\")\n"
   ]
  },
  {
   "cell_type": "code",
   "execution_count": 3,
   "id": "d0dee19a-f5c0-4d43-b794-944f0e93ce7a",
   "metadata": {},
   "outputs": [
    {
     "name": "stdout",
     "output_type": "stream",
     "text": [
      "The PDF at x = 1.5 is: 0.551956485821215\n"
     ]
    }
   ],
   "source": [
    "import numpy as np\n",
    "\n",
    "def normal_pdf(x, mean, std_dev):\n",
    "    \"\"\"\n",
    "    Calculate the probability density function (PDF) of a normal distribution.\n",
    "\n",
    "    Parameters:\n",
    "    - x: The point at which to calculate the PDF.\n",
    "    - mean: The mean of the normal distribution.\n",
    "    - std_dev: The standard deviation of the normal distribution.\n",
    "\n",
    "    Returns:\n",
    "    - The PDF at the given point.\n",
    "    \"\"\"\n",
    "    coefficient = 1 / (np.sqrt(2 * np.pi) * std_dev)\n",
    "    exponent = np.exp(-0.5 * ((x - mean) / std_dev)**2)\n",
    "    pdf_value = coefficient * np.exp(exponent)\n",
    "    return pdf_value\n",
    "\n",
    "# Example usage:\n",
    "mean_value = 0\n",
    "std_dev_value = 1\n",
    "point = 1.5\n",
    "pdf_at_point = normal_pdf(point, mean_value, std_dev_value)\n",
    "\n",
    "print(f\"The PDF at x = {point} is: {pdf_at_point}\")\n"
   ]
  },
  {
   "cell_type": "markdown",
   "id": "e4f1b63f-b219-40da-81b5-cb594213c1f4",
   "metadata": {},
   "source": [
    "### Q4. What are the properties of Binomial distribution? Give two examples of events where binomial distribution can be applied."
   ]
  },
  {
   "cell_type": "markdown",
   "id": "9979d7e1-1eb1-4339-a000-46791ec2db8b",
   "metadata": {},
   "source": [
    "### Properties of Binomial Distribution\n",
    "#### The properties of the binomial distribution are:\n",
    "\n",
    "-  Two Possible Outcomes: The binomial distribution is characterized by two distinct outcomes, such as true or false, success or failure, or yes or no.\n",
    "- Fixed Number of Trials: It involves a fixed number of independent trials, denoted as ‘n’, or a specific number of trials conducted ‘n’ times.\n",
    "- Constant Probability: The probability of success or failure remains consistent across all trials.\n",
    "- Counting Successes: The binomial distribution focuses on counting the number of successes achieved out of ‘n’ independent trials.\n",
    "- Independence of Trials: Each trial is independent, meaning the outcome of one trial does not influence the outcome of another trial.\n"
   ]
  },
  {
   "cell_type": "markdown",
   "id": "567af8b2-c613-4a63-a6f4-9e7244d4e312",
   "metadata": {},
   "source": [
    "#### Two examples of events where a binomial distribution can be applied include:\n",
    "\n",
    "- Coin Flips: Suppose you flip a fair coin (where the probability of getting heads, for example, is 0.5) five times. The number of heads obtained in these five trials follows a binomial distribution.\n",
    "\n",
    "- Quality Control: In a manufacturing process, you are inspecting a random sample of 10 items, and each item either meets the quality standard (success) or does not (failure). The binomial distribution can be used to model the number of items meeting the quality standard in the sample.\n",
    "\n",
    "\n",
    "\n",
    "\n"
   ]
  },
  {
   "cell_type": "markdown",
   "id": "ad4cde8a-7c5b-4b7f-888f-335e5f026fcd",
   "metadata": {},
   "source": [
    "### Q5. Generate a random sample of size 1000 from a binomial distribution with probability of success 0.4 and plot a histogram of the results using matplotlib."
   ]
  },
  {
   "cell_type": "code",
   "execution_count": 4,
   "id": "e1211807-256a-4042-93c3-1a5530e1f6af",
   "metadata": {},
   "outputs": [
    {
     "data": {
      "image/png": "[encoded data removed]",
      "text/plain": [
       "<Figure size 640x480 with 1 Axes>"
      ]
     },
     "metadata": {},
     "output_type": "display_data"
    }
   ],
   "source": [
    "import numpy as np\n",
    "import matplotlib.pyplot as plt\n",
    "\n",
    "# Define parameters\n",
    "n = 1000  # Number of trials\n",
    "p = 0.4  # Probability of success\n",
    "\n",
    "# Generate random sample from binomial distribution\n",
    "samples = np.random.binomial(n, p, size=1000)\n",
    "\n",
    "# Plot histogram\n",
    "plt.hist(samples, bins=20, edgecolor='black')\n",
    "plt.xlabel(\"Number of successes\")\n",
    "plt.ylabel(\"Frequency\")\n",
    "plt.title(\"Histogram of Binomial Distribution (n={}, p={})\".format(n, p))\n",
    "plt.grid(True)\n",
    "plt.show()\n"
   ]
  },
  {
   "cell_type": "code",
   "execution_count": 5,
   "id": "5c063588-f3b6-4b94-ba24-7779dcf870a1",
   "metadata": {},
   "outputs": [
    {
     "data": {
      "image/png": "[encoded data removed]",
      "text/plain": [
       "<Figure size 640x480 with 1 Axes>"
      ]
     },
     "metadata": {},
     "output_type": "display_data"
    }
   ],
   "source": [
    "import numpy as np\n",
    "import matplotlib.pyplot as plt\n",
    "\n",
    "# Set the parameters\n",
    "n = 1000  # Number of trials\n",
    "p = 0.4   # Probability of success\n",
    "\n",
    "# Generate a random sample from a binomial distribution\n",
    "random_sample = np.random.binomial(n, p, size=1000)\n",
    "\n",
    "# Plot the histogram\n",
    "plt.hist(random_sample, bins= 30, edgecolor='black')\n",
    "plt.title('Binomial Distribution with n=1000, p=0.4')\n",
    "plt.xlabel('Number of Successes')\n",
    "plt.ylabel('Frequency')\n",
    "plt.grid(axis='y', alpha=0.75)\n",
    "plt.show()\n"
   ]
  },
  {
   "cell_type": "markdown",
   "id": "a9f1e681-e150-4aca-817f-8d54421ab0ea",
   "metadata": {},
   "source": [
    "### Q6. Write a Python function to calculate the cumulative distribution function of a Poisson distribution with given mean at a given point."
   ]
  },
  {
   "cell_type": "code",
   "execution_count": 6,
   "id": "1df8c9f2-013f-4257-9cdb-be0d9da448f0",
   "metadata": {},
   "outputs": [
    {
     "name": "stdout",
     "output_type": "stream",
     "text": [
      "The cumulative distribution function value at 2 is: 0.42319008112684364\n"
     ]
    }
   ],
   "source": [
    "import numpy as np\n",
    "from scipy.stats import poisson\n",
    "\n",
    "def poisson_cdf(mean, k):\n",
    "    \"\"\"\n",
    "    Calculate the cumulative distribution function (CDF) of a Poisson distribution.\n",
    "\n",
    "    Parameters:\n",
    "    - mean: Mean of the Poisson distribution.\n",
    "    - k: Point at which to evaluate the CDF.\n",
    "\n",
    "    Returns:\n",
    "    - cdf: Cumulative distribution function value at the given point.\n",
    "    \"\"\"\n",
    "    cdf = poisson.cdf(k, mu=mean)\n",
    "    return cdf\n",
    "\n",
    "# Example usage:\n",
    "mean_value = 3  # Replace with the desired mean value\n",
    "point_to_evaluate = 2  # Replace with the desired point to evaluate the CDF\n",
    "\n",
    "result = poisson_cdf(mean_value, point_to_evaluate)\n",
    "print(f\"The cumulative distribution function value at {point_to_evaluate} is: {result}\")\n"
   ]
  },
  {
   "cell_type": "code",
   "execution_count": 7,
   "id": "fc12f7fe-1f11-495e-b331-b55a0eb8cca8",
   "metadata": {},
   "outputs": [
    {
     "name": "stdout",
     "output_type": "stream",
     "text": [
      "The CDF of the Poisson distribution with mean 5 at point 3 is: 0.2650259152973616\n"
     ]
    }
   ],
   "source": [
    "from scipy.stats import poisson\n",
    "\n",
    "def poisson_cdf(mean, x):\n",
    "    \"\"\"\n",
    "  Calculates the cumulative distribution function (CDF) of a Poisson distribution\n",
    "  with a given mean at a given point.\n",
    "\n",
    "  Args:\n",
    "    mean: The mean of the Poisson distribution.\n",
    "    x: The point at which to calculate the CDF.\n",
    "\n",
    "  Returns:\n",
    "    The CDF of the Poisson distribution at the given point.\n",
    "  \"\"\"\n",
    "\n",
    "    return poisson.cdf(x, mean)\n",
    "\n",
    "# Example usage\n",
    "mean = 5\n",
    "x = 3\n",
    "cdf = poisson_cdf(mean, x)\n",
    "print(f\"The CDF of the Poisson distribution with mean {mean} at point {x} is: {cdf}\")\n"
   ]
  },
  {
   "cell_type": "markdown",
   "id": "a9d5678f-401c-487a-9224-e308267db8f4",
   "metadata": {},
   "source": [
    "### Q7. How Binomial distribution different from Poisson distribution?"
   ]
  },
  {
   "cell_type": "markdown",
   "id": "94a577f1-1071-4438-9e9d-fdea42243927",
   "metadata": {},
   "source": [
    "### Binomial Distribution vs Poisson Distribution\n",
    "\n",
    "#### 1. Nature of the Process:\n",
    "\n",
    "- **Binomial Distribution:** It describes the number of successes in a fixed number of independent Bernoulli trials, where each trial has only two possible outcomes (success or failure). The trials are discrete and finite.\n",
    "\n",
    "- **Poisson Distribution:** It models the number of events that occur in a fixed interval of time or space. It is often used when the number of trials is large, and the probability of success in an individual trial is small.\n",
    "\n",
    "#### 2. Number of Trials:\n",
    "\n",
    "- **Binomial Distribution:** It is defined for a fixed number of trials (n) where each trial is independent of others.\n",
    "\n",
    "- **Poisson Distribution:** It does not have a fixed number of trials. Instead, it describes the occurrence of events in a continuous process over time or space.\n",
    "\n",
    "#### 3. Outcomes:\n",
    "\n",
    "- **Binomial Distribution:** Each trial in a Binomial distribution has two possible outcomes (success or failure).\n",
    "\n",
    "- **Poisson Distribution:** It represents the count of events that can occur any number of times (including zero) within a specified interval.\n",
    "\n",
    "#### 4. Probability Mass Function (PMF):\n",
    "\n",
    "- **Binomial Distribution:** The PMF of the Binomial distribution is given by the binomial coefficient and the success and failure probabilities.\n",
    "\n",
    "- **Poisson Distribution:** The PMF of the Poisson distribution involves the mean rate of events (λ) and is given by the formula \\(P(X=k) = \\frac{e^{-\\lambda} \\cdot \\lambda^k}{k!}\\).\n",
    "\n",
    "#### 5. Assumptions:\n",
    "\n",
    "- **Binomial Distribution:** Assumes a fixed number of trials with each trial having two possible outcomes and being independent.\n",
    "\n",
    "- **Poisson Distribution:** Assumes events are rare, and the probability of more than one event occurring in an infinitesimally small interval is negligible.\n",
    "\n",
    "#### 6. Parameters:\n",
    "\n",
    "- **Binomial Distribution:** It has two parameters - the number of trials (n) and the probability of success (p).\n",
    "\n",
    "- **Poisson Distribution:** It has one parameter - the mean rate of events (λ).\n"
   ]
  },
  {
   "cell_type": "markdown",
   "id": "66f1d45c-522f-4ecd-859c-f5a9996b19c1",
   "metadata": {},
   "source": [
    "### Q8. Generate a random sample of size 1000 from a Poisson distribution with mean 5 and calculate the sample mean and variance."
   ]
  },
  {
   "cell_type": "code",
   "execution_count": 8,
   "id": "9854c3ad-4847-4eba-9c7f-4b8abedab7e7",
   "metadata": {},
   "outputs": [
    {
     "name": "stdout",
     "output_type": "stream",
     "text": [
      "Sample Mean: 4.985\n",
      "Sample Variance: 4.9967749999999995\n"
     ]
    }
   ],
   "source": [
    "import numpy as np\n",
    "\n",
    "# Set the seed for reproducibility (optional)\n",
    "np.random.seed(42)\n",
    "\n",
    "# Generate a random sample of size 1000 from a Poisson distribution with mean 5\n",
    "sample = np.random.poisson(lam=5, size=1000)\n",
    "\n",
    "# Calculate the sample mean and variance\n",
    "sample_mean = np.mean(sample)\n",
    "sample_variance = np.var(sample)\n",
    "\n",
    "# Print the results\n",
    "print(f\"Sample Mean: {sample_mean}\")\n",
    "print(f\"Sample Variance: {sample_variance}\")\n"
   ]
  },
  {
   "cell_type": "code",
   "execution_count": 9,
   "id": "7604be4f-cd8b-432a-8cbe-bc5c0cc9fd13",
   "metadata": {},
   "outputs": [
    {
     "name": "stdout",
     "output_type": "stream",
     "text": [
      "Sample mean: 4.92\n",
      "Sample variance: 4.53\n"
     ]
    }
   ],
   "source": [
    "from numpy.random import poisson\n",
    "\n",
    "# Generate a random sample of size 1000 from a Poisson distribution with mean 5\n",
    "sample = poisson(5, size=1000)\n",
    "\n",
    "# Calculate the sample mean and variance\n",
    "sample_mean = sample.mean()\n",
    "sample_variance = sample.var()\n",
    "\n",
    "# Print the sample mean and variance\n",
    "print(f\"Sample mean: {sample_mean:.2f}\")\n",
    "print(f\"Sample variance: {sample_variance:.2f}\")\n"
   ]
  },
  {
   "cell_type": "markdown",
   "id": "3a3d8bde-88ed-4d95-89e5-261d6da116a2",
   "metadata": {},
   "source": [
    "### Q9. How mean and variance are related in Binomial distribution and Poisson distribution?"
   ]
  },
  {
   "cell_type": "markdown",
   "id": "d781f4e0-0245-448c-9216-b06c5524ba88",
   "metadata": {},
   "source": [
    "### The relationship between mean and variance differs in Binomial and Poisson distributions:\n",
    "\n",
    "\n",
    "#### Binomial Distribution\n",
    "\n",
    "For a Binomial distribution with parameters \\( n \\) (number of trials) and \\( p \\) (probability of success in each trial), the mean and variance are related as follows:\n",
    "\n",
    "1. **Mean (\\( \\mu\\)):** \\( \\mu = np \\)\n",
    "2. **Variance (\\( \\sigma^2 \\)):** \\( \\sigma^2 = np(1-p) \\)\n",
    "\n",
    "The variance of a Binomial distribution is directly proportional to both the number of trials (\\( n \\)) and the probability of success (\\( p \\)), given by the product of \\( np \\) and \\( 1-p \\).\n",
    "\n",
    "#### Poisson Distribution\n",
    "\n",
    "For a Poisson distribution with parameter \\( \\lambda \\) (mean rate of events), the mean and variance are related as follows:\n",
    "\n",
    "1. **Mean (\\( \\mu \\)):** \\( \\mu = \\lambda \\)\n",
    "2. **Variance (\\( \\sigma^2 \\)):** \\( \\sigma^2 = \\lambda \\)\n",
    "\n",
    "In the Poisson distribution, the mean (\\( \\lambda \\)) and the variance (\\( \\lambda \\)) are equal. This property indicates that the spread of the distribution is solely determined by the average rate of events."
   ]
  },
  {
   "cell_type": "markdown",
   "id": "a84b860d-bf90-47db-8e9a-23698703f5a3",
   "metadata": {},
   "source": [
    "### Q10. In normal distribution with respect to mean position, where does the least frequent data appear?"
   ]
  },
  {
   "cell_type": "markdown",
   "id": "4b8fee69-2a78-417f-a21c-f978765d33d2",
   "metadata": {},
   "source": [
    "\n",
    "In a normal distribution, also known as a bell curve or Gaussian distribution, the least frequent data points appear in the tails of the distribution, farthest away from the mean. The normal distribution is symmetric, and the mean (average) is located at the center. As you move away from the mean towards the tails on either side, the frequency of data points decreases. The tails represent the extreme values, and these are less likely to occur in a normal distribution."
   ]
  }
 ],
 "metadata": {
  "kernelspec": {
   "display_name": "Python 3 (ipykernel)",
   "language": "python",
   "name": "python3"
  },
  "language_info": {
   "codemirror_mode": {
    "name": "ipython",
    "version": 3
   },
   "file_extension": ".py",
   "mimetype": "text/x-python",
   "name": "python",
   "nbconvert_exporter": "python",
   "pygments_lexer": "ipython3",
   "version": "3.10.8"
  }
 },
 "nbformat": 4,
 "nbformat_minor": 5
}
